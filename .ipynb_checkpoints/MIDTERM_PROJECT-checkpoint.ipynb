{
 "cells": [
  {
   "cell_type": "code",
   "execution_count": 1,
   "metadata": {},
   "outputs": [],
   "source": [
    "import pandas as pd\n",
    "import numpy as np\n",
    "import os \n",
    "import itertools"
   ]
  },
  {
   "cell_type": "markdown",
   "metadata": {},
   "source": [
    "# 1. Load Data"
   ]
  },
  {
   "cell_type": "code",
   "execution_count": 2,
   "metadata": {},
   "outputs": [
    {
     "name": "stdout",
     "output_type": "stream",
     "text": [
      "Welcome to the simulation of the apriori algorithms.\n",
      "The available data is listed bellow, input the choice you want\n",
      "amazon.csv - to choose this data input (1)\n",
      "kmart.csv - to choose this data input (2)\n",
      "nike.csv - to choose this data input (3)\n",
      "bestbuy.csv - to choose this data input (4)\n",
      "custom.csv - to choose this data input (5)\n",
      "2\n",
      "User chose kmart.csv dataset\n",
      "Loading and processing data ... \n"
     ]
    }
   ],
   "source": [
    "print(\"Welcome to the simulation of the apriori algorithms.\")\n",
    "i = 0\n",
    "csv = []\n",
    "index = []\n",
    "print(\"The available data is listed bellow, input the choice you want\")\n",
    "for file in os.listdir('data'):\n",
    "    if \".csv\" in file:\n",
    "        csv.append(file)\n",
    "        print(file, \"- to choose this data input (\" +str(i+1) +\")\")\n",
    "        index.append(i+1)\n",
    "        i += 1\n",
    "\n",
    "while True:\n",
    "    try:\n",
    "        choice_of_data = int(input())\n",
    "        if choice_of_data not in index:\n",
    "            print(\"Input is not recognized, please input the number corresponding to the data\")\n",
    "        else:\n",
    "            print('User chose', csv[choice_of_data-1], 'dataset')\n",
    "            data = csv[choice_of_data-1]\n",
    "            break\n",
    "    except ValueError:\n",
    "        print(\"Input is not recognized, please input the number corresponding to the data\")\n",
    "        \n",
    "print(\"Loading and processing data ... \")"
   ]
  },
  {
   "cell_type": "code",
   "execution_count": 3,
   "metadata": {},
   "outputs": [
    {
     "data": {
      "text/html": [
       "<div>\n",
       "<style scoped>\n",
       "    .dataframe tbody tr th:only-of-type {\n",
       "        vertical-align: middle;\n",
       "    }\n",
       "\n",
       "    .dataframe tbody tr th {\n",
       "        vertical-align: top;\n",
       "    }\n",
       "\n",
       "    .dataframe thead th {\n",
       "        text-align: right;\n",
       "    }\n",
       "</style>\n",
       "<table border=\"1\" class=\"dataframe\">\n",
       "  <thead>\n",
       "    <tr style=\"text-align: right;\">\n",
       "      <th></th>\n",
       "      <th>Transaction ID</th>\n",
       "      <th>Transaction</th>\n",
       "    </tr>\n",
       "  </thead>\n",
       "  <tbody>\n",
       "    <tr>\n",
       "      <th>0</th>\n",
       "      <td>Trans1</td>\n",
       "      <td>Decorative Pillows, Quilts, Embroidered Bedspr...</td>\n",
       "    </tr>\n",
       "    <tr>\n",
       "      <th>1</th>\n",
       "      <td>Trans2</td>\n",
       "      <td>Embroidered Bedspread, Shams, Kids Bedding, Be...</td>\n",
       "    </tr>\n",
       "    <tr>\n",
       "      <th>2</th>\n",
       "      <td>Trans3</td>\n",
       "      <td>Decorative Pillows, Quilts, Embroidered Bedspr...</td>\n",
       "    </tr>\n",
       "    <tr>\n",
       "      <th>3</th>\n",
       "      <td>Trans4</td>\n",
       "      <td>Kids Bedding, Bedding Collections, Sheets, Bed...</td>\n",
       "    </tr>\n",
       "    <tr>\n",
       "      <th>4</th>\n",
       "      <td>Trans5</td>\n",
       "      <td>Decorative Pillows, Kids Bedding, Bedding Coll...</td>\n",
       "    </tr>\n",
       "  </tbody>\n",
       "</table>\n",
       "</div>"
      ],
      "text/plain": [
       "  Transaction ID                                        Transaction \n",
       "0         Trans1   Decorative Pillows, Quilts, Embroidered Bedspr...\n",
       "1         Trans2   Embroidered Bedspread, Shams, Kids Bedding, Be...\n",
       "2         Trans3   Decorative Pillows, Quilts, Embroidered Bedspr...\n",
       "3         Trans4   Kids Bedding, Bedding Collections, Sheets, Bed...\n",
       "4         Trans5   Decorative Pillows, Kids Bedding, Bedding Coll..."
      ]
     },
     "execution_count": 3,
     "metadata": {},
     "output_type": "execute_result"
    }
   ],
   "source": [
    "filepath = 'data'\n",
    "file = os.path.join(filepath, data)\n",
    "df = pd.read_csv(file)\n",
    "df.head()"
   ]
  },
  {
   "cell_type": "code",
   "execution_count": 4,
   "metadata": {},
   "outputs": [
    {
     "data": {
      "text/plain": [
       "{'Bed Skirts': 1,\n",
       " 'Shams': 2,\n",
       " 'Kids Bedding': 3,\n",
       " 'Decorative Pillows': 4,\n",
       " 'Sheets': 5,\n",
       " 'Quilts': 6,\n",
       " 'Embroidered Bedspread': 7,\n",
       " 'Bedding Collections': 8,\n",
       " 'Bedspreads': 9}"
      ]
     },
     "execution_count": 4,
     "metadata": {},
     "output_type": "execute_result"
    }
   ],
   "source": [
    "list_of_items = []\n",
    "for tran in df[df.columns[-1]]:\n",
    "    for item in str(tran).replace(u'\\xa0', u'').split(', '):\n",
    "        list_of_items.append(item)\n",
    "list_of_items = set(list_of_items)\n",
    "items = {}\n",
    "i = 1\n",
    "for item in list_of_items:\n",
    "    items[item] = i\n",
    "    i += 1\n",
    "items"
   ]
  },
  {
   "cell_type": "code",
   "execution_count": 5,
   "metadata": {},
   "outputs": [
    {
     "data": {
      "text/html": [
       "<div>\n",
       "<style scoped>\n",
       "    .dataframe tbody tr th:only-of-type {\n",
       "        vertical-align: middle;\n",
       "    }\n",
       "\n",
       "    .dataframe tbody tr th {\n",
       "        vertical-align: top;\n",
       "    }\n",
       "\n",
       "    .dataframe thead th {\n",
       "        text-align: right;\n",
       "    }\n",
       "</style>\n",
       "<table border=\"1\" class=\"dataframe\">\n",
       "  <thead>\n",
       "    <tr style=\"text-align: right;\">\n",
       "      <th></th>\n",
       "      <th>Transaction ID</th>\n",
       "      <th>Transaction</th>\n",
       "      <th>Bed Skirts</th>\n",
       "      <th>Shams</th>\n",
       "      <th>Kids Bedding</th>\n",
       "      <th>Decorative Pillows</th>\n",
       "      <th>Sheets</th>\n",
       "      <th>Quilts</th>\n",
       "      <th>Embroidered Bedspread</th>\n",
       "      <th>Bedding Collections</th>\n",
       "      <th>Bedspreads</th>\n",
       "    </tr>\n",
       "  </thead>\n",
       "  <tbody>\n",
       "    <tr>\n",
       "      <th>0</th>\n",
       "      <td>Trans1</td>\n",
       "      <td>Decorative Pillows, Quilts, Embroidered Bedspr...</td>\n",
       "      <td>0</td>\n",
       "      <td>0</td>\n",
       "      <td>0</td>\n",
       "      <td>1</td>\n",
       "      <td>0</td>\n",
       "      <td>1</td>\n",
       "      <td>1</td>\n",
       "      <td>0</td>\n",
       "      <td>0</td>\n",
       "    </tr>\n",
       "    <tr>\n",
       "      <th>1</th>\n",
       "      <td>Trans2</td>\n",
       "      <td>Embroidered Bedspread, Shams, Kids Bedding, Be...</td>\n",
       "      <td>1</td>\n",
       "      <td>1</td>\n",
       "      <td>1</td>\n",
       "      <td>0</td>\n",
       "      <td>1</td>\n",
       "      <td>0</td>\n",
       "      <td>1</td>\n",
       "      <td>1</td>\n",
       "      <td>1</td>\n",
       "    </tr>\n",
       "    <tr>\n",
       "      <th>2</th>\n",
       "      <td>Trans3</td>\n",
       "      <td>Decorative Pillows, Quilts, Embroidered Bedspr...</td>\n",
       "      <td>0</td>\n",
       "      <td>1</td>\n",
       "      <td>1</td>\n",
       "      <td>1</td>\n",
       "      <td>0</td>\n",
       "      <td>1</td>\n",
       "      <td>1</td>\n",
       "      <td>1</td>\n",
       "      <td>0</td>\n",
       "    </tr>\n",
       "    <tr>\n",
       "      <th>3</th>\n",
       "      <td>Trans4</td>\n",
       "      <td>Kids Bedding, Bedding Collections, Sheets, Bed...</td>\n",
       "      <td>1</td>\n",
       "      <td>0</td>\n",
       "      <td>1</td>\n",
       "      <td>0</td>\n",
       "      <td>1</td>\n",
       "      <td>0</td>\n",
       "      <td>0</td>\n",
       "      <td>1</td>\n",
       "      <td>1</td>\n",
       "    </tr>\n",
       "    <tr>\n",
       "      <th>4</th>\n",
       "      <td>Trans5</td>\n",
       "      <td>Decorative Pillows, Kids Bedding, Bedding Coll...</td>\n",
       "      <td>1</td>\n",
       "      <td>0</td>\n",
       "      <td>1</td>\n",
       "      <td>1</td>\n",
       "      <td>1</td>\n",
       "      <td>0</td>\n",
       "      <td>0</td>\n",
       "      <td>1</td>\n",
       "      <td>1</td>\n",
       "    </tr>\n",
       "  </tbody>\n",
       "</table>\n",
       "</div>"
      ],
      "text/plain": [
       "  Transaction ID                                        Transaction   \\\n",
       "0         Trans1   Decorative Pillows, Quilts, Embroidered Bedspr...   \n",
       "1         Trans2   Embroidered Bedspread, Shams, Kids Bedding, Be...   \n",
       "2         Trans3   Decorative Pillows, Quilts, Embroidered Bedspr...   \n",
       "3         Trans4   Kids Bedding, Bedding Collections, Sheets, Bed...   \n",
       "4         Trans5   Decorative Pillows, Kids Bedding, Bedding Coll...   \n",
       "\n",
       "   Bed Skirts  Shams  Kids Bedding  Decorative Pillows  Sheets  Quilts  \\\n",
       "0           0      0             0                   1       0       1   \n",
       "1           1      1             1                   0       1       0   \n",
       "2           0      1             1                   1       0       1   \n",
       "3           1      0             1                   0       1       0   \n",
       "4           1      0             1                   1       1       0   \n",
       "\n",
       "   Embroidered Bedspread  Bedding Collections  Bedspreads  \n",
       "0                      1                    0           0  \n",
       "1                      1                    1           1  \n",
       "2                      1                    1           0  \n",
       "3                      0                    1           1  \n",
       "4                      0                    1           1  "
      ]
     },
     "execution_count": 5,
     "metadata": {},
     "output_type": "execute_result"
    }
   ],
   "source": [
    "for item in items:\n",
    "    arr = np.zeros(df.shape[0]).astype(int)\n",
    "    i = 0\n",
    "    for tran in df[df.columns[1]]:\n",
    "        if item in str(tran).replace(u'\\xa0', u'').split(', '):\n",
    "            arr[i] = 1\n",
    "        i += 1\n",
    "    df[item] = arr\n",
    "df.head()"
   ]
  },
  {
   "cell_type": "markdown",
   "metadata": {},
   "source": [
    "# 2. Input Support & Confidence"
   ]
  },
  {
   "cell_type": "code",
   "execution_count": 6,
   "metadata": {},
   "outputs": [
    {
     "name": "stdout",
     "output_type": "stream",
     "text": [
      "Done processing the data!\n",
      "Please choose the support rate (>= 0 & <= 1)\n",
      "0.4\n",
      "User chose support rate: 0.400000\n"
     ]
    }
   ],
   "source": [
    "print(\"Done processing the data!\")\n",
    "print(\"Please choose the support rate (>= 0 & <= 1)\")\n",
    "while True:\n",
    "    try:\n",
    "        support_rate = float(input())\n",
    "        if (support_rate < 0 or support_rate > 1):\n",
    "            print(\"input is not in range (0,1)\")\n",
    "            continue\n",
    "        break\n",
    "    except ValueError:\n",
    "        print(\"input is not float, please input in range (0,1)\")\n",
    "print(\"User chose support rate: %f\" % support_rate)"
   ]
  },
  {
   "cell_type": "code",
   "execution_count": 7,
   "metadata": {},
   "outputs": [
    {
     "name": "stdout",
     "output_type": "stream",
     "text": [
      "Please choose the confidence rate (>= 0 & <= 1)\n",
      "0.6\n",
      "User chose confidence rate: 0.600000\n"
     ]
    }
   ],
   "source": [
    "print(\"Please choose the confidence rate (>= 0 & <= 1)\")\n",
    "while True:\n",
    "    try:\n",
    "        confidence_rate = float(input())\n",
    "        if (confidence_rate < 0 or confidence_rate > 1):\n",
    "            print(\"input is not in range (0,1)\")\n",
    "            continue\n",
    "        break\n",
    "    except ValueError:\n",
    "        print(\"input is not float, please input in range (0,1)\")\n",
    "print(\"User chose confidence rate: %f\" % confidence_rate)"
   ]
  },
  {
   "cell_type": "code",
   "execution_count": 8,
   "metadata": {},
   "outputs": [],
   "source": [
    "min_support = support_rate*df.shape[0]"
   ]
  },
  {
   "cell_type": "markdown",
   "metadata": {},
   "source": [
    "# 3. Apriori Algorithms"
   ]
  },
  {
   "cell_type": "code",
   "execution_count": 9,
   "metadata": {},
   "outputs": [
    {
     "data": {
      "text/plain": [
       "{'Bed Skirts',\n",
       " 'Decorative Pillows',\n",
       " 'Kids Bedding',\n",
       " 'Quilts',\n",
       " 'Shams',\n",
       " 'Sheets'}"
      ]
     },
     "execution_count": 9,
     "metadata": {},
     "output_type": "execute_result"
    }
   ],
   "source": [
    "count_dict = {} \n",
    "for item in list_of_items:\n",
    "    if np.sum(df[item]) >= min_support:\n",
    "        count_dict[item] = np.sum(df[item])\n",
    "set(count_dict.keys())"
   ]
  },
  {
   "cell_type": "code",
   "execution_count": 10,
   "metadata": {},
   "outputs": [],
   "source": [
    "list_frequent = []\n",
    "for i in range(2, len(count_dict) + 1):\n",
    "    ls = list(itertools.combinations(count_dict.keys(), i))\n",
    "    for per in ls:\n",
    "        if (np.sum(np.sum(df[list(per)], axis = 1) == i) >= int(min_support)):\n",
    "            list_frequent.append(per)\n",
    "#             print(len(list_frequent), list_frequent, per)"
   ]
  },
  {
   "cell_type": "code",
   "execution_count": 11,
   "metadata": {},
   "outputs": [
    {
     "name": "stdout",
     "output_type": "stream",
     "text": [
      "Procesing ...\n",
      "Result: \n",
      " *  ['Bed Skirts'] => \"Shams\"\" with confidence: 0.8181818181818182\n",
      " *  ['Shams'] => \"Bed Skirts\"\" with confidence: 0.8181818181818182\n",
      " *  ['Bed Skirts'] => \"Kids Bedding\"\" with confidence: 0.9090909090909091\n",
      " *  ['Kids Bedding'] => \"Bed Skirts\"\" with confidence: 0.8333333333333334\n",
      " *  ['Bed Skirts'] => \"Sheets\"\" with confidence: 0.8181818181818182\n",
      " *  ['Sheets'] => \"Bed Skirts\"\" with confidence: 0.9\n",
      " *  ['Shams'] => \"Kids Bedding\"\" with confidence: 0.8181818181818182\n",
      " *  ['Kids Bedding'] => \"Shams\"\" with confidence: 0.75\n",
      " *  ['Kids Bedding'] => \"Sheets\"\" with confidence: 0.8333333333333334\n",
      " *  ['Sheets'] => \"Kids Bedding\"\" with confidence: 1.0\n",
      " *  ['Bed Skirts', 'Shams'] => \"Kids Bedding\"\" with confidence: 0.8888888888888888\n",
      " *  ['Bed Skirts', 'Kids Bedding'] => \"Shams\"\" with confidence: 0.8\n",
      " *  ['Shams', 'Bed Skirts'] => \"Kids Bedding\"\" with confidence: 0.8888888888888888\n",
      " *  ['Shams', 'Kids Bedding'] => \"Bed Skirts\"\" with confidence: 0.8888888888888888\n",
      " *  ['Kids Bedding', 'Bed Skirts'] => \"Shams\"\" with confidence: 0.8\n",
      " *  ['Kids Bedding', 'Shams'] => \"Bed Skirts\"\" with confidence: 0.8888888888888888\n",
      " *  ['Bed Skirts', 'Kids Bedding'] => \"Sheets\"\" with confidence: 0.9\n",
      " *  ['Bed Skirts', 'Sheets'] => \"Kids Bedding\"\" with confidence: 1.0\n",
      " *  ['Kids Bedding', 'Bed Skirts'] => \"Sheets\"\" with confidence: 0.9\n",
      " *  ['Kids Bedding', 'Sheets'] => \"Bed Skirts\"\" with confidence: 0.9\n",
      " *  ['Sheets', 'Bed Skirts'] => \"Kids Bedding\"\" with confidence: 1.0\n",
      " *  ['Sheets', 'Kids Bedding'] => \"Bed Skirts\"\" with confidence: 0.9\n"
     ]
    }
   ],
   "source": [
    "print(\"Procesing ...\")\n",
    "print(\"Result: \")\n",
    "for fred in list_frequent:\n",
    "#     print(\"For frequent list,\", fred, \"we have rules:\")\n",
    "    sp2 = np.sum(np.sum(df[list(fred)], axis = 1) == len(list(fred)))\n",
    "#     print(\"Support: \",sp2)\n",
    "    ls = list(itertools.permutations(fred, len(fred)))\n",
    "    for per in ls: \n",
    "        passed = False\n",
    "        sp1 = np.sum(np.sum(df[list(per)[:-1]], axis = 1) == len(list(list(per)[:-1])))\n",
    "        if (sp2/sp1 >= confidence_rate):\n",
    "            passed = True\n",
    "        if(passed): \n",
    "            print(\" * \",list(per)[:-1], \"=>\",'\"'+str(list(per)[-1])+'\"\"',\"with confidence:\", sp2/sp1)"
   ]
  }
 ],
 "metadata": {
  "kernelspec": {
   "display_name": "Python 3",
   "language": "python",
   "name": "python3"
  },
  "language_info": {
   "codemirror_mode": {
    "name": "ipython",
    "version": 3
   },
   "file_extension": ".py",
   "mimetype": "text/x-python",
   "name": "python",
   "nbconvert_exporter": "python",
   "pygments_lexer": "ipython3",
   "version": "3.6.12"
  }
 },
 "nbformat": 4,
 "nbformat_minor": 4
}
