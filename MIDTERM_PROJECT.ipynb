{
 "cells": [
  {
   "cell_type": "code",
   "execution_count": 1,
   "metadata": {},
   "outputs": [],
   "source": [
    "import pandas as pd\n",
    "import numpy as np\n",
    "import os \n",
    "import itertools"
   ]
  },
  {
   "cell_type": "markdown",
   "metadata": {},
   "source": [
    "# 1. Load Data"
   ]
  },
  {
   "cell_type": "code",
   "execution_count": 2,
   "metadata": {},
   "outputs": [
    {
     "name": "stdout",
     "output_type": "stream",
     "text": [
      "Welcome to the simulation of the apriori algorithms. \n",
      "Please choose the data: \n",
      " - amazon (1) \n",
      " - bestbuy (2) \n",
      " - kmart (3) \n",
      " - nike (4) \n",
      " - custom (5)\n",
      "2\n",
      "User chose bestbuy dataset\n",
      "Loading and processing data ... \n"
     ]
    }
   ],
   "source": [
    "print(\"Welcome to the simulation of the apriori algorithms. \\nPlease choose the data: \\n - amazon (1) \\n - bestbuy (2) \\n - kmart (3) \\n - nike (4) \\n - custom (5)\")\n",
    "while True:\n",
    "    choice_of_data = input()\n",
    "    if (choice_of_data == '1'):\n",
    "        data = 'amazon.csv'\n",
    "        print('User chose amazon dataset')\n",
    "        break\n",
    "    elif (choice_of_data == '2'):\n",
    "        data = 'bestbuy.csv'\n",
    "        print('User chose bestbuy dataset')\n",
    "        break\n",
    "    elif (choice_of_data == '3'):\n",
    "        data = 'kmart.csv'\n",
    "        print('User chose kmart dataset')\n",
    "        break\n",
    "    elif (choice_of_data == '4'):\n",
    "        data = 'nike.csv'\n",
    "        print('User chose nike dataset')\n",
    "        break\n",
    "    elif (choice_of_data == '5'):\n",
    "        data = 'custom.csv'\n",
    "        print('User chose custom dataset')\n",
    "        break\n",
    "    else:\n",
    "        print(\"Input is not recognized, please input the number corresponding to the data\")\n",
    "print(\"Loading and processing data ... \")"
   ]
  },
  {
   "cell_type": "code",
   "execution_count": 3,
   "metadata": {},
   "outputs": [
    {
     "data": {
      "text/html": [
       "<div>\n",
       "<style scoped>\n",
       "    .dataframe tbody tr th:only-of-type {\n",
       "        vertical-align: middle;\n",
       "    }\n",
       "\n",
       "    .dataframe tbody tr th {\n",
       "        vertical-align: top;\n",
       "    }\n",
       "\n",
       "    .dataframe thead th {\n",
       "        text-align: right;\n",
       "    }\n",
       "</style>\n",
       "<table border=\"1\" class=\"dataframe\">\n",
       "  <thead>\n",
       "    <tr style=\"text-align: right;\">\n",
       "      <th></th>\n",
       "      <th>Transaction ID</th>\n",
       "      <th>Transaction</th>\n",
       "    </tr>\n",
       "  </thead>\n",
       "  <tbody>\n",
       "    <tr>\n",
       "      <th>0</th>\n",
       "      <td>Trans1</td>\n",
       "      <td>Desk Top, Printer, Flash Drive, Microsoft Offi...</td>\n",
       "    </tr>\n",
       "    <tr>\n",
       "      <th>1</th>\n",
       "      <td>Trans2</td>\n",
       "      <td>Lab Top, Flash Drive, Microsoft Office, Lab To...</td>\n",
       "    </tr>\n",
       "    <tr>\n",
       "      <th>2</th>\n",
       "      <td>Trans3</td>\n",
       "      <td>Lab Top, Printer, Flash Drive, Microsoft Offic...</td>\n",
       "    </tr>\n",
       "    <tr>\n",
       "      <th>3</th>\n",
       "      <td>Trans4</td>\n",
       "      <td>Lab Top, Printer, Flash Drive, Anti-Virus, Ext...</td>\n",
       "    </tr>\n",
       "    <tr>\n",
       "      <th>4</th>\n",
       "      <td>Trans5</td>\n",
       "      <td>Lab Top, Flash Drive, Lab Top Case, Anti-Virus</td>\n",
       "    </tr>\n",
       "  </tbody>\n",
       "</table>\n",
       "</div>"
      ],
      "text/plain": [
       "  Transaction ID                                        Transaction \n",
       "0         Trans1   Desk Top, Printer, Flash Drive, Microsoft Offi...\n",
       "1         Trans2   Lab Top, Flash Drive, Microsoft Office, Lab To...\n",
       "2         Trans3   Lab Top, Printer, Flash Drive, Microsoft Offic...\n",
       "3         Trans4   Lab Top, Printer, Flash Drive, Anti-Virus, Ext...\n",
       "4         Trans5     Lab Top, Flash Drive, Lab Top Case, Anti-Virus "
      ]
     },
     "execution_count": 3,
     "metadata": {},
     "output_type": "execute_result"
    }
   ],
   "source": [
    "filepath = 'data'\n",
    "file = os.path.join(filepath, data)\n",
    "df = pd.read_csv(file)\n",
    "df.head()"
   ]
  },
  {
   "cell_type": "code",
   "execution_count": 4,
   "metadata": {},
   "outputs": [
    {
     "data": {
      "text/plain": [
       "{'External Hard-Drive': 1,\n",
       " 'Lab Top': 2,\n",
       " 'Lab Top Case': 3,\n",
       " 'Printer': 4,\n",
       " 'Flash Drive': 5,\n",
       " 'Anti-Virus': 6,\n",
       " 'Microsoft Office': 7,\n",
       " 'Desk Top': 8,\n",
       " 'Speakers': 9,\n",
       " 'Digital Camera': 10,\n",
       " 'Digital Camera ': 11}"
      ]
     },
     "execution_count": 4,
     "metadata": {},
     "output_type": "execute_result"
    }
   ],
   "source": [
    "list_of_items = []\n",
    "for tran in df[df.columns[-1]]:\n",
    "    for item in str(tran).replace(u'\\xa0', u'').split(', '):\n",
    "        list_of_items.append(item)\n",
    "list_of_items = set(list_of_items)\n",
    "items = {}\n",
    "i = 1\n",
    "for item in list_of_items:\n",
    "    items[item] = i\n",
    "    i += 1\n",
    "items"
   ]
  },
  {
   "cell_type": "code",
   "execution_count": 5,
   "metadata": {},
   "outputs": [
    {
     "data": {
      "text/html": [
       "<div>\n",
       "<style scoped>\n",
       "    .dataframe tbody tr th:only-of-type {\n",
       "        vertical-align: middle;\n",
       "    }\n",
       "\n",
       "    .dataframe tbody tr th {\n",
       "        vertical-align: top;\n",
       "    }\n",
       "\n",
       "    .dataframe thead th {\n",
       "        text-align: right;\n",
       "    }\n",
       "</style>\n",
       "<table border=\"1\" class=\"dataframe\">\n",
       "  <thead>\n",
       "    <tr style=\"text-align: right;\">\n",
       "      <th></th>\n",
       "      <th>Transaction ID</th>\n",
       "      <th>Transaction</th>\n",
       "      <th>External Hard-Drive</th>\n",
       "      <th>Lab Top</th>\n",
       "      <th>Lab Top Case</th>\n",
       "      <th>Printer</th>\n",
       "      <th>Flash Drive</th>\n",
       "      <th>Anti-Virus</th>\n",
       "      <th>Microsoft Office</th>\n",
       "      <th>Desk Top</th>\n",
       "      <th>Speakers</th>\n",
       "      <th>Digital Camera</th>\n",
       "      <th>Digital Camera</th>\n",
       "    </tr>\n",
       "  </thead>\n",
       "  <tbody>\n",
       "    <tr>\n",
       "      <th>0</th>\n",
       "      <td>Trans1</td>\n",
       "      <td>Desk Top, Printer, Flash Drive, Microsoft Offi...</td>\n",
       "      <td>0</td>\n",
       "      <td>0</td>\n",
       "      <td>0</td>\n",
       "      <td>1</td>\n",
       "      <td>1</td>\n",
       "      <td>1</td>\n",
       "      <td>1</td>\n",
       "      <td>1</td>\n",
       "      <td>1</td>\n",
       "      <td>0</td>\n",
       "      <td>0</td>\n",
       "    </tr>\n",
       "    <tr>\n",
       "      <th>1</th>\n",
       "      <td>Trans2</td>\n",
       "      <td>Lab Top, Flash Drive, Microsoft Office, Lab To...</td>\n",
       "      <td>0</td>\n",
       "      <td>1</td>\n",
       "      <td>1</td>\n",
       "      <td>0</td>\n",
       "      <td>1</td>\n",
       "      <td>1</td>\n",
       "      <td>1</td>\n",
       "      <td>0</td>\n",
       "      <td>0</td>\n",
       "      <td>0</td>\n",
       "      <td>0</td>\n",
       "    </tr>\n",
       "    <tr>\n",
       "      <th>2</th>\n",
       "      <td>Trans3</td>\n",
       "      <td>Lab Top, Printer, Flash Drive, Microsoft Offic...</td>\n",
       "      <td>1</td>\n",
       "      <td>1</td>\n",
       "      <td>1</td>\n",
       "      <td>1</td>\n",
       "      <td>1</td>\n",
       "      <td>1</td>\n",
       "      <td>1</td>\n",
       "      <td>0</td>\n",
       "      <td>0</td>\n",
       "      <td>0</td>\n",
       "      <td>0</td>\n",
       "    </tr>\n",
       "    <tr>\n",
       "      <th>3</th>\n",
       "      <td>Trans4</td>\n",
       "      <td>Lab Top, Printer, Flash Drive, Anti-Virus, Ext...</td>\n",
       "      <td>1</td>\n",
       "      <td>1</td>\n",
       "      <td>1</td>\n",
       "      <td>1</td>\n",
       "      <td>1</td>\n",
       "      <td>1</td>\n",
       "      <td>0</td>\n",
       "      <td>0</td>\n",
       "      <td>0</td>\n",
       "      <td>0</td>\n",
       "      <td>0</td>\n",
       "    </tr>\n",
       "    <tr>\n",
       "      <th>4</th>\n",
       "      <td>Trans5</td>\n",
       "      <td>Lab Top, Flash Drive, Lab Top Case, Anti-Virus</td>\n",
       "      <td>0</td>\n",
       "      <td>1</td>\n",
       "      <td>1</td>\n",
       "      <td>0</td>\n",
       "      <td>1</td>\n",
       "      <td>1</td>\n",
       "      <td>0</td>\n",
       "      <td>0</td>\n",
       "      <td>0</td>\n",
       "      <td>0</td>\n",
       "      <td>0</td>\n",
       "    </tr>\n",
       "  </tbody>\n",
       "</table>\n",
       "</div>"
      ],
      "text/plain": [
       "  Transaction ID                                        Transaction   \\\n",
       "0         Trans1   Desk Top, Printer, Flash Drive, Microsoft Offi...   \n",
       "1         Trans2   Lab Top, Flash Drive, Microsoft Office, Lab To...   \n",
       "2         Trans3   Lab Top, Printer, Flash Drive, Microsoft Offic...   \n",
       "3         Trans4   Lab Top, Printer, Flash Drive, Anti-Virus, Ext...   \n",
       "4         Trans5     Lab Top, Flash Drive, Lab Top Case, Anti-Virus    \n",
       "\n",
       "   External Hard-Drive  Lab Top  Lab Top Case  Printer  Flash Drive  \\\n",
       "0                    0        0             0        1            1   \n",
       "1                    0        1             1        0            1   \n",
       "2                    1        1             1        1            1   \n",
       "3                    1        1             1        1            1   \n",
       "4                    0        1             1        0            1   \n",
       "\n",
       "   Anti-Virus  Microsoft Office  Desk Top  Speakers  Digital Camera  \\\n",
       "0           1                 1         1         1               0   \n",
       "1           1                 1         0         0               0   \n",
       "2           1                 1         0         0               0   \n",
       "3           1                 0         0         0               0   \n",
       "4           1                 0         0         0               0   \n",
       "\n",
       "   Digital Camera   \n",
       "0                0  \n",
       "1                0  \n",
       "2                0  \n",
       "3                0  \n",
       "4                0  "
      ]
     },
     "execution_count": 5,
     "metadata": {},
     "output_type": "execute_result"
    }
   ],
   "source": [
    "for item in items:\n",
    "    arr = np.zeros(df.shape[0]).astype(int)\n",
    "    i = 0\n",
    "    for tran in df[df.columns[1]]:\n",
    "        if item in str(tran).replace(u'\\xa0', u'').split(', '):\n",
    "            arr[i] = 1\n",
    "        i += 1\n",
    "    df[item] = arr\n",
    "df.head()"
   ]
  },
  {
   "cell_type": "markdown",
   "metadata": {},
   "source": [
    "# 2. Input Support & Confidence"
   ]
  },
  {
   "cell_type": "code",
   "execution_count": 6,
   "metadata": {},
   "outputs": [
    {
     "name": "stdout",
     "output_type": "stream",
     "text": [
      "Done processing the data!\n",
      "Please choose the support rate (>= 0 & <= 1)\n",
      "0.4\n",
      "User chose support rate: 0.400000\n"
     ]
    }
   ],
   "source": [
    "print(\"Done processing the data!\")\n",
    "print(\"Please choose the support rate (>= 0 & <= 1)\")\n",
    "while True:\n",
    "    try:\n",
    "        support_rate = float(input())\n",
    "        if (support_rate < 0 or support_rate > 1):\n",
    "            print(\"input is not in range (0,1)\")\n",
    "            continue\n",
    "        break\n",
    "    except ValueError:\n",
    "        print(\"input is not float, please input in range (0,1)\")\n",
    "print(\"User chose support rate: %f\" % support_rate)"
   ]
  },
  {
   "cell_type": "code",
   "execution_count": 7,
   "metadata": {},
   "outputs": [
    {
     "name": "stdout",
     "output_type": "stream",
     "text": [
      "Please choose the confidence rate (>= 0 & <= 1)\n",
      "0.5\n",
      "User chose confidence rate: 0.500000\n"
     ]
    }
   ],
   "source": [
    "print(\"Please choose the confidence rate (>= 0 & <= 1)\")\n",
    "while True:\n",
    "    try:\n",
    "        confidence_rate = float(input())\n",
    "        if (confidence_rate < 0 or confidence_rate > 1):\n",
    "            print(\"input is not in range (0,1)\")\n",
    "            continue\n",
    "        break\n",
    "    except ValueError:\n",
    "        print(\"input is not float, please input in range (0,1)\")\n",
    "print(\"User chose confidence rate: %f\" % confidence_rate)"
   ]
  },
  {
   "cell_type": "code",
   "execution_count": 8,
   "metadata": {},
   "outputs": [],
   "source": [
    "min_support = support_rate*df.shape[0]"
   ]
  },
  {
   "cell_type": "markdown",
   "metadata": {},
   "source": [
    "# 3. Apriori Algorithms"
   ]
  },
  {
   "cell_type": "code",
   "execution_count": 9,
   "metadata": {},
   "outputs": [
    {
     "data": {
      "text/plain": [
       "{'Anti-Virus',\n",
       " 'Digital Camera ',\n",
       " 'External Hard-Drive',\n",
       " 'Flash Drive',\n",
       " 'Lab Top',\n",
       " 'Lab Top Case',\n",
       " 'Microsoft Office',\n",
       " 'Printer',\n",
       " 'Speakers'}"
      ]
     },
     "execution_count": 9,
     "metadata": {},
     "output_type": "execute_result"
    }
   ],
   "source": [
    "count_dict = {} \n",
    "for item in list_of_items:\n",
    "    if np.sum(df[item]) >= min_support:\n",
    "        count_dict[item] = np.sum(df[item])\n",
    "set(count_dict.keys())"
   ]
  },
  {
   "cell_type": "code",
   "execution_count": 10,
   "metadata": {},
   "outputs": [],
   "source": [
    "list_frequent = []\n",
    "for i in range(2, len(count_dict) + 1):\n",
    "    ls = list(itertools.combinations(count_dict.keys(), i))\n",
    "    for per in ls:\n",
    "        if (np.sum(np.sum(df[list(per)], axis = 1) == i) >= int(min_support)):\n",
    "            list_frequent.append(per)\n",
    "#             print(len(list_frequent), list_frequent, per)"
   ]
  },
  {
   "cell_type": "code",
   "execution_count": 12,
   "metadata": {},
   "outputs": [
    {
     "name": "stdout",
     "output_type": "stream",
     "text": [
      "Procesing ...\n",
      "Result: \n",
      " *  ['External Hard-Drive'] => \"Lab Top Case\"\" with confidence: 0.8888888888888888\n",
      " *  ['Lab Top Case'] => \"External Hard-Drive\"\" with confidence: 0.5714285714285714\n",
      " *  ['External Hard-Drive'] => \"Anti-Virus\"\" with confidence: 1.0\n",
      " *  ['Anti-Virus'] => \"External Hard-Drive\"\" with confidence: 0.6428571428571429\n",
      " *  ['Lab Top'] => \"Lab Top Case\"\" with confidence: 0.8333333333333334\n",
      " *  ['Lab Top Case'] => \"Lab Top\"\" with confidence: 0.7142857142857143\n",
      " *  ['Lab Top'] => \"Anti-Virus\"\" with confidence: 0.8333333333333334\n",
      " *  ['Anti-Virus'] => \"Lab Top\"\" with confidence: 0.7142857142857143\n",
      " *  ['Lab Top Case'] => \"Flash Drive\"\" with confidence: 0.6428571428571429\n",
      " *  ['Flash Drive'] => \"Lab Top Case\"\" with confidence: 0.6923076923076923\n",
      " *  ['Lab Top Case'] => \"Anti-Virus\"\" with confidence: 0.8571428571428571\n",
      " *  ['Anti-Virus'] => \"Lab Top Case\"\" with confidence: 0.8571428571428571\n",
      " *  ['Lab Top Case'] => \"Speakers\"\" with confidence: 0.6428571428571429\n",
      " *  ['Speakers'] => \"Lab Top Case\"\" with confidence: 0.8181818181818182\n",
      " *  ['Printer'] => \"Flash Drive\"\" with confidence: 1.0\n",
      " *  ['Flash Drive'] => \"Printer\"\" with confidence: 0.7692307692307693\n",
      " *  ['Printer'] => \"Microsoft Office\"\" with confidence: 0.9\n",
      " *  ['Microsoft Office'] => \"Printer\"\" with confidence: 0.8181818181818182\n",
      " *  ['Flash Drive'] => \"Anti-Virus\"\" with confidence: 0.7692307692307693\n",
      " *  ['Anti-Virus'] => \"Flash Drive\"\" with confidence: 0.7142857142857143\n",
      " *  ['Flash Drive'] => \"Microsoft Office\"\" with confidence: 0.8461538461538461\n",
      " *  ['Microsoft Office'] => \"Flash Drive\"\" with confidence: 1.0\n",
      " *  ['Anti-Virus'] => \"Microsoft Office\"\" with confidence: 0.5714285714285714\n",
      " *  ['Microsoft Office'] => \"Anti-Virus\"\" with confidence: 0.7272727272727273\n",
      " *  ['Anti-Virus'] => \"Speakers\"\" with confidence: 0.6428571428571429\n",
      " *  ['Speakers'] => \"Anti-Virus\"\" with confidence: 0.8181818181818182\n",
      " *  ['External Hard-Drive', 'Lab Top Case'] => \"Anti-Virus\"\" with confidence: 1.0\n",
      " *  ['External Hard-Drive', 'Anti-Virus'] => \"Lab Top Case\"\" with confidence: 0.8888888888888888\n",
      " *  ['Lab Top Case', 'External Hard-Drive'] => \"Anti-Virus\"\" with confidence: 1.0\n",
      " *  ['Lab Top Case', 'Anti-Virus'] => \"External Hard-Drive\"\" with confidence: 0.6666666666666666\n",
      " *  ['Anti-Virus', 'External Hard-Drive'] => \"Lab Top Case\"\" with confidence: 0.8888888888888888\n",
      " *  ['Anti-Virus', 'Lab Top Case'] => \"External Hard-Drive\"\" with confidence: 0.6666666666666666\n",
      " *  ['Lab Top', 'Lab Top Case'] => \"Anti-Virus\"\" with confidence: 0.9\n",
      " *  ['Lab Top', 'Anti-Virus'] => \"Lab Top Case\"\" with confidence: 0.9\n",
      " *  ['Lab Top Case', 'Lab Top'] => \"Anti-Virus\"\" with confidence: 0.9\n",
      " *  ['Lab Top Case', 'Anti-Virus'] => \"Lab Top\"\" with confidence: 0.75\n",
      " *  ['Anti-Virus', 'Lab Top'] => \"Lab Top Case\"\" with confidence: 0.9\n",
      " *  ['Anti-Virus', 'Lab Top Case'] => \"Lab Top\"\" with confidence: 0.75\n",
      " *  ['Lab Top Case', 'Flash Drive'] => \"Anti-Virus\"\" with confidence: 1.0\n",
      " *  ['Lab Top Case', 'Anti-Virus'] => \"Flash Drive\"\" with confidence: 0.75\n",
      " *  ['Flash Drive', 'Lab Top Case'] => \"Anti-Virus\"\" with confidence: 1.0\n",
      " *  ['Flash Drive', 'Anti-Virus'] => \"Lab Top Case\"\" with confidence: 0.9\n",
      " *  ['Anti-Virus', 'Lab Top Case'] => \"Flash Drive\"\" with confidence: 0.75\n",
      " *  ['Anti-Virus', 'Flash Drive'] => \"Lab Top Case\"\" with confidence: 0.9\n",
      " *  ['Lab Top Case', 'Anti-Virus'] => \"Speakers\"\" with confidence: 0.6666666666666666\n",
      " *  ['Lab Top Case', 'Speakers'] => \"Anti-Virus\"\" with confidence: 0.8888888888888888\n",
      " *  ['Anti-Virus', 'Lab Top Case'] => \"Speakers\"\" with confidence: 0.6666666666666666\n",
      " *  ['Anti-Virus', 'Speakers'] => \"Lab Top Case\"\" with confidence: 0.8888888888888888\n",
      " *  ['Speakers', 'Lab Top Case'] => \"Anti-Virus\"\" with confidence: 0.8888888888888888\n",
      " *  ['Speakers', 'Anti-Virus'] => \"Lab Top Case\"\" with confidence: 0.8888888888888888\n",
      " *  ['Printer', 'Flash Drive'] => \"Microsoft Office\"\" with confidence: 0.9\n",
      " *  ['Printer', 'Microsoft Office'] => \"Flash Drive\"\" with confidence: 1.0\n",
      " *  ['Flash Drive', 'Printer'] => \"Microsoft Office\"\" with confidence: 0.9\n",
      " *  ['Flash Drive', 'Microsoft Office'] => \"Printer\"\" with confidence: 0.8181818181818182\n",
      " *  ['Microsoft Office', 'Printer'] => \"Flash Drive\"\" with confidence: 1.0\n",
      " *  ['Microsoft Office', 'Flash Drive'] => \"Printer\"\" with confidence: 0.8181818181818182\n",
      " *  ['Flash Drive', 'Anti-Virus'] => \"Microsoft Office\"\" with confidence: 0.8\n",
      " *  ['Flash Drive', 'Microsoft Office'] => \"Anti-Virus\"\" with confidence: 0.7272727272727273\n",
      " *  ['Anti-Virus', 'Flash Drive'] => \"Microsoft Office\"\" with confidence: 0.8\n",
      " *  ['Anti-Virus', 'Microsoft Office'] => \"Flash Drive\"\" with confidence: 1.0\n",
      " *  ['Microsoft Office', 'Flash Drive'] => \"Anti-Virus\"\" with confidence: 0.7272727272727273\n",
      " *  ['Microsoft Office', 'Anti-Virus'] => \"Flash Drive\"\" with confidence: 1.0\n"
     ]
    }
   ],
   "source": [
    "print(\"Procesing ...\")\n",
    "print(\"Result: \")\n",
    "for fred in list_frequent:\n",
    "#     print(\"For frequent list,\", fred, \"we have rules:\")\n",
    "    sp2 = np.sum(np.sum(df[list(fred)], axis = 1) == len(list(fred)))\n",
    "#     print(\"Support: \",sp2)\n",
    "    ls = list(itertools.permutations(fred, len(fred)))\n",
    "    for per in ls: \n",
    "        passed = False\n",
    "        sp1 = np.sum(np.sum(df[list(per)[:-1]], axis = 1) == len(list(list(per)[:-1])))\n",
    "        if (sp2/sp1 >= confidence_rate):\n",
    "            passed = True\n",
    "        if(passed): \n",
    "            print(\" * \",list(per)[:-1], \"=>\",'\"'+str(list(per)[-1])+'\"\"',\"with confidence:\", sp2/sp1)"
   ]
  },
  {
   "cell_type": "code",
   "execution_count": null,
   "metadata": {},
   "outputs": [],
   "source": []
  }
 ],
 "metadata": {
  "kernelspec": {
   "display_name": "Python 3",
   "language": "python",
   "name": "python3"
  },
  "language_info": {
   "codemirror_mode": {
    "name": "ipython",
    "version": 3
   },
   "file_extension": ".py",
   "mimetype": "text/x-python",
   "name": "python",
   "nbconvert_exporter": "python",
   "pygments_lexer": "ipython3",
   "version": "3.8.3"
  }
 },
 "nbformat": 4,
 "nbformat_minor": 4
}
